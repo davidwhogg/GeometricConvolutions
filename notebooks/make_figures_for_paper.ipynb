{
 "cells": [
  {
   "cell_type": "markdown",
   "id": "0134ced9",
   "metadata": {},
   "source": [
    "# Make figures for paper on geometric images\n",
    "\n",
    "## Authors:\n",
    "- **David W. Hogg** (NYU) (MPIA) (Flatiron)\n",
    "- **Soledad Villar** (JHU)\n",
    "\n",
    "## To-do items and bugs:\n",
    "- Make plots (and maybe a LaTeX table) that illustrate the group B_d.\n",
    "- Figure out a better way to plot in `D=3`."
   ]
  },
  {
   "cell_type": "code",
   "execution_count": null,
   "id": "cb453713",
   "metadata": {},
   "outputs": [],
   "source": [
    "import itertools as it\n",
    "import numpy as np\n",
    "import geometric as geom\n",
    "import finufft\n",
    "import pylab as plt\n",
    "%load_ext autoreload\n",
    "%autoreload 2"
   ]
  },
  {
   "cell_type": "code",
   "execution_count": null,
   "id": "d7457f4b",
   "metadata": {},
   "outputs": [],
   "source": [
    "D = 2\n",
    "group_operators = geom.make_all_operators(D)"
   ]
  },
  {
   "cell_type": "code",
   "execution_count": null,
   "id": "fd529235",
   "metadata": {},
   "outputs": [],
   "source": [
    "geom.test_group(group_operators)"
   ]
  },
  {
   "cell_type": "code",
   "execution_count": null,
   "id": "9e428c7b",
   "metadata": {},
   "outputs": [],
   "source": [
    "geom.test_group_actions(group_operators)"
   ]
  },
  {
   "cell_type": "code",
   "execution_count": null,
   "id": "2ad2a13f",
   "metadata": {},
   "outputs": [],
   "source": [
    "allfilters_big = {}\n",
    "allfilters = {}\n",
    "names_big = {}\n",
    "names = {}\n",
    "maxn = {}\n",
    "for M in [3, 5]:\n",
    "    maxn[(D, M)] = 0\n",
    "    klist = (0, 1, 2)\n",
    "    if M > 3:\n",
    "        klist = (0, 1)\n",
    "    bigkey = (D, M)\n",
    "    allfilters_big[bigkey] = []\n",
    "    names_big[bigkey] = []\n",
    "    for k, parity in it.product(klist, (0, 1)):\n",
    "        key = (D, M, k, parity)\n",
    "        allfilters[key] = geom.get_unique_invariant_filters(M, k, parity, D, group_operators)\n",
    "        allfilters_big[bigkey] += allfilters[key]\n",
    "        names[key] = [\"{} {}\".format(geom.ktensor.name(k, parity), i)\n",
    "                      for i in range(len(allfilters[key]))]\n",
    "        names_big[bigkey] += names[key]"
   ]
  },
  {
   "cell_type": "code",
   "execution_count": null,
   "id": "5d0d7478",
   "metadata": {},
   "outputs": [],
   "source": [
    "dpi = 300\n",
    "paritysign = {0: \"+\", 1: \"-\"}\n",
    "for key in allfilters_big.keys():\n",
    "    D, M = key\n",
    "    fig = geom.plot_filters(allfilters_big[key], names_big[key],\n",
    "                            np.ceil(np.sqrt(len(names_big[key]))).astype(int))\n",
    "    plotname = \"filter_{}_{}.png\".format(D, M)\n",
    "    fig.savefig(plotname, dpi=dpi)"
   ]
  },
  {
   "cell_type": "code",
   "execution_count": null,
   "id": "cc45ee60",
   "metadata": {},
   "outputs": [],
   "source": [
    "# make a sensible smooth scalar image on a 2-torus\n",
    "N = 16\n",
    "D = 2\n",
    "np.random.seed(42)\n",
    "image = np.random.normal(size=D * (N, ))\n",
    "foo = np.pi * np.arange(-1. + 1. / N, 1., 2. / N)\n",
    "ys, xs = np.meshgrid(foo, foo) # ys, xs or xs, ys??\n",
    "ft = finufft.nufft2d1(xs.flatten(), ys.flatten(), image.flatten().astype(complex), (6, 5))\n",
    "package = finufft.nufft2d2(xs.flatten(), ys.flatten(), ft).reshape(N, N).real\n",
    "package -= np.mean(package)\n",
    "package /= np.sqrt(np.mean(package ** 2))\n",
    "scalar_image = geom.geometric_image(package, 1, D)"
   ]
  },
  {
   "cell_type": "code",
   "execution_count": null,
   "id": "fb4d08ba",
   "metadata": {},
   "outputs": [],
   "source": [
    "filters = [(allfilters[(D, 5, 0, 0)][4], r\"C_{s}\"),\n",
    "           (allfilters[(D, 5, 0, 1)][0], r\"C_{ps}\"),\n",
    "           (allfilters[(D, 3, 1, 0)][0], r\"C_{v}\"),\n",
    "           (allfilters[(D, 3, 1, 1)][0], r\"C_{pv}\"),\n",
    "          ]"
   ]
  },
  {
   "cell_type": "code",
   "execution_count": null,
   "id": "c5ee2568",
   "metadata": {},
   "outputs": [],
   "source": [
    "monomials = {}\n",
    "monomials[1] = [(scalar_image.normalize(), r\"s\"), ]\n",
    "monomials[1] += [(scalar_image.convolve_with(ff).normalize(),\n",
    "                  r\"s\\ast \" + tt) for ff, tt in filters]"
   ]
  },
  {
   "cell_type": "code",
   "execution_count": null,
   "id": "c1f6d2a5",
   "metadata": {},
   "outputs": [],
   "source": [
    "degree = 1\n",
    "fig = geom.plot_images(monomials[degree])\n",
    "fig.savefig(\"monomials_{}.png\".format(degree), dpi=dpi)"
   ]
  },
  {
   "cell_type": "code",
   "execution_count": null,
   "id": "af894de8",
   "metadata": {},
   "outputs": [],
   "source": [
    "# next order!\n",
    "monomials[2] = []\n",
    "n = len(monomials[1])\n",
    "for i in range(n):\n",
    "    for j in range(i, n):\n",
    "        image1, latex1 = monomials[1][i]\n",
    "        image2, latex2 = monomials[1][j]\n",
    "        monomials[2] += [((image1 * image2).normalize(),\n",
    "                          \"(\" + latex1 + r\")\\otimes(\" + latex2 + \")\"),\n",
    "                        ]\n",
    "foo = []\n",
    "for image, latex in monomials[2]:\n",
    "    if image.k > 1:\n",
    "        image = image.contract(0, 1).normalize()\n",
    "        latex = r\"\\mathrm{Tr}[\" + latex + \"]\"\n",
    "    foo += [(image, latex), ]\n",
    "monomials[2] = foo"
   ]
  },
  {
   "cell_type": "code",
   "execution_count": null,
   "id": "ecf41eae",
   "metadata": {},
   "outputs": [],
   "source": [
    "degree = 2\n",
    "fig = geom.plot_images(monomials[degree])\n",
    "fig.savefig(\"monomials_{}.png\".format(degree), dpi=dpi)"
   ]
  },
  {
   "cell_type": "code",
   "execution_count": null,
   "id": "4baf0c77",
   "metadata": {},
   "outputs": [],
   "source": []
  }
 ],
 "metadata": {
  "kernelspec": {
   "display_name": "Python 3 (ipykernel)",
   "language": "python",
   "name": "python3"
  },
  "language_info": {
   "codemirror_mode": {
    "name": "ipython",
    "version": 3
   },
   "file_extension": ".py",
   "mimetype": "text/x-python",
   "name": "python",
   "nbconvert_exporter": "python",
   "pygments_lexer": "ipython3",
   "version": "3.9.12"
  }
 },
 "nbformat": 4,
 "nbformat_minor": 5
}
