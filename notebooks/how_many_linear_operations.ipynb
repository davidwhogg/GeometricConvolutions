{
 "cells": [
  {
   "cell_type": "markdown",
   "id": "0134ced9",
   "metadata": {},
   "source": [
    "# Ask questions about how many linear and quadratic ops there are\n",
    "\n",
    "## Authors:\n",
    "- **David W. Hogg** (NYU) (MPIA) (Flatiron)\n",
    "- **Soledad Villar** (JHU)\n",
    "\n",
    "## To-do items and bugs:\n",
    "- Do something."
   ]
  },
  {
   "cell_type": "code",
   "execution_count": null,
   "id": "cb453713",
   "metadata": {},
   "outputs": [],
   "source": [
    "import itertools as it\n",
    "import numpy as np\n",
    "import geometric as geom\n",
    "import finufft\n",
    "import pylab as plt\n",
    "%load_ext autoreload\n",
    "%autoreload 2"
   ]
  },
  {
   "cell_type": "code",
   "execution_count": null,
   "id": "477cb5f3",
   "metadata": {},
   "outputs": [],
   "source": [
    "D, N = 2, 3"
   ]
  },
  {
   "cell_type": "markdown",
   "id": "5d9159f0",
   "metadata": {},
   "source": [
    "## Set up the group"
   ]
  },
  {
   "cell_type": "code",
   "execution_count": null,
   "id": "d7457f4b",
   "metadata": {},
   "outputs": [],
   "source": [
    "group_operators = geom.make_all_operators(D)\n",
    "print(len(group_operators))"
   ]
  },
  {
   "cell_type": "code",
   "execution_count": null,
   "id": "fd529235",
   "metadata": {},
   "outputs": [],
   "source": [
    "geom.test_group(group_operators)"
   ]
  },
  {
   "cell_type": "code",
   "execution_count": null,
   "id": "f450d53e",
   "metadata": {},
   "outputs": [],
   "source": [
    "geom.test_group_actions(group_operators)"
   ]
  },
  {
   "cell_type": "markdown",
   "id": "29ee3cae",
   "metadata": {},
   "source": [
    "## Make the invariant geometric filters"
   ]
  },
  {
   "cell_type": "code",
   "execution_count": null,
   "id": "2ad2a13f",
   "metadata": {},
   "outputs": [],
   "source": [
    "allfilters = {}\n",
    "names = {}\n",
    "maxn = {}\n",
    "for M in [N, ]:\n",
    "    maxn[(D, M)] = 0\n",
    "    klist = (0, 1, 2)\n",
    "    for k, parity in it.product(klist, (0, 1)):\n",
    "        key = (D, M, k, parity)\n",
    "        allfilters[key] = geom.get_unique_invariant_filters(M, k, parity, D, group_operators)\n",
    "        n = len(allfilters[key])\n",
    "        if n > maxn[(D, M)]:\n",
    "            maxn[(D, M)] = n\n",
    "        names[key] = [\"{} {}\".format(geom.ktensor.name(k, parity), i) for i in range(n)]"
   ]
  },
  {
   "cell_type": "code",
   "execution_count": null,
   "id": "39f44472",
   "metadata": {},
   "outputs": [],
   "source": [
    "dpi = 300\n",
    "paritysign = {0: \"+\", 1: \"-\"}\n",
    "for key in allfilters.keys():\n",
    "    D, M, k, parity = key\n",
    "    fig = geom.plot_filters(allfilters[key], names[key], maxn[(D, M)])"
   ]
  },
  {
   "cell_type": "markdown",
   "id": "ce9ea258",
   "metadata": {},
   "source": [
    "## Make input vector image"
   ]
  },
  {
   "cell_type": "code",
   "execution_count": null,
   "id": "154cf39a",
   "metadata": {},
   "outputs": [],
   "source": [
    "# Make a sensible vector image on a D-torus\n",
    "np.random.seed(42)\n",
    "if D == 2:\n",
    "    imagex = np.random.normal(size=(N, N))\n",
    "    imagey = np.random.normal(size=(N, N))\n",
    "    package = np.zeros((N, N, D))\n",
    "    filtered = False # True if you want the image to be \"smooth\".\n",
    "    if filtered:\n",
    "        foo = np.pi * np.arange(-1. + 1. / N, 1., 2. / N)\n",
    "        ys, xs = np.meshgrid(foo, foo) # ys, xs or xs, ys??\n",
    "        ftx = finufft.nufft2d1(xs.flatten(), ys.flatten(), imagex.flatten().astype(complex), (12, 12))\n",
    "        fty = finufft.nufft2d1(xs.flatten(), ys.flatten(), imagey.flatten().astype(complex), (12, 12))\n",
    "        package[:, :, 0] = finufft.nufft2d2(xs.flatten(), ys.flatten(), ftx).reshape(N, N).real\n",
    "        package[:, :, 1] = finufft.nufft2d2(xs.flatten(), ys.flatten(), fty).reshape(N, N).real\n",
    "    else:\n",
    "        package[:, :, 0] = imagex\n",
    "        package[:, :, 1] = imagey\n",
    "if D == 3:\n",
    "    package = np.random.normal(size=(N, N, N, D))\n",
    "package /= np.sqrt(np.mean(package ** 2))\n",
    "print(package.shape)\n",
    "vector_image = geom.geometric_image(package, 0, D).normalize()\n",
    "print(vector_image)"
   ]
  },
  {
   "cell_type": "code",
   "execution_count": null,
   "id": "3443110b",
   "metadata": {},
   "outputs": [],
   "source": [
    "if D == 2:\n",
    "    fig = geom.plot_image(vector_image)"
   ]
  },
  {
   "cell_type": "markdown",
   "id": "37d965cc",
   "metadata": {},
   "source": [
    "## Consider the linear case"
   ]
  },
  {
   "cell_type": "code",
   "execution_count": null,
   "id": "29d29333",
   "metadata": {},
   "outputs": [],
   "source": [
    "# How can we make a vector image from this vector image?\n",
    "# 1. Convolve with scalar filters\n",
    "M = N\n",
    "key = (D, M, 0, 0) # D M k parity\n",
    "v_images = [vector_image.convolve_with(ff).normalize() for ff in allfilters[key]]\n",
    "print(len(v_images))"
   ]
  },
  {
   "cell_type": "code",
   "execution_count": null,
   "id": "b2c6e6ab",
   "metadata": {},
   "outputs": [],
   "source": [
    "# 2. Convolve with pseudoscalar filters and Levi-Civita contract\n",
    "# Oh wait, we don't have any pseudoscalars at 3x3!\n",
    "key = (D, M, 0, 1) # D M k parity\n",
    "v_images += [vector_image.convolve_with(ff).levi_civita_contract(0).normalize() for ff in allfilters[key]]\n",
    "print(len(v_images))"
   ]
  },
  {
   "cell_type": "code",
   "execution_count": null,
   "id": "9001715f",
   "metadata": {},
   "outputs": [],
   "source": [
    "# 3. Convolve with 2-tensor filters and contract\n",
    "key = (D, M, 2, 0) # D M k parity\n",
    "v_images += [vector_image.convolve_with(ff).contract(0, 1).normalize() for ff in allfilters[key]]\n",
    "v_images += [vector_image.convolve_with(ff).contract(0, 2).normalize() for ff in allfilters[key]]\n",
    "print(len(v_images))"
   ]
  },
  {
   "cell_type": "code",
   "execution_count": null,
   "id": "b25e3815",
   "metadata": {},
   "outputs": [],
   "source": [
    "# 4.A Convolve with 2-pseudotensor filters, Levi-Civita contract, and contract\n",
    "if D == 2:\n",
    "    key = (D, M, 2, 1) # D M k parity\n",
    "    v_images += [vector_image.convolve_with(ff).levi_civita_contract(0).contract(0, 1).normalize() for ff in allfilters[key]]\n",
    "    v_images += [vector_image.convolve_with(ff).levi_civita_contract(0).contract(0, 2).normalize() for ff in allfilters[key]]\n",
    "    print(len(v_images))"
   ]
  },
  {
   "cell_type": "code",
   "execution_count": null,
   "id": "6603ec71",
   "metadata": {},
   "outputs": [],
   "source": [
    "# 4.B Convolve with pseudovector filters, Levi-Civita contract (ie, cross product!)\n",
    "if D in (3, ):\n",
    "    key = (D, M, 1, 1) # D M k parity\n",
    "    v_images += [vector_image.convolve_with(ff).levi_civita_contract([0, 1]).normalize() for ff in allfilters[key]]\n",
    "    print(len(v_images))"
   ]
  },
  {
   "cell_type": "code",
   "execution_count": null,
   "id": "a74b0cc9",
   "metadata": {},
   "outputs": [],
   "source": [
    "datablock = np.array([im.unpack().flatten() for im in v_images])\n",
    "print(datablock.shape)\n",
    "u, s, v = np.linalg.svd(datablock)\n",
    "print(\"there are\", np.sum(s > geom.TINY), \"different images at N = M =\", N, \"to linear order\")"
   ]
  },
  {
   "cell_type": "markdown",
   "id": "3b407ecc",
   "metadata": {},
   "source": [
    "## Now consider the quadratic case"
   ]
  },
  {
   "cell_type": "code",
   "execution_count": null,
   "id": "5339dcfb",
   "metadata": {},
   "outputs": [],
   "source": [
    "flat_list_of_filters = []\n",
    "for key in allfilters.keys():\n",
    "    flat_list_of_filters += allfilters[key]\n",
    "for ff in flat_list_of_filters:\n",
    "    print(ff, ff.k, ff.parity)"
   ]
  },
  {
   "cell_type": "code",
   "execution_count": null,
   "id": "3c74ce5f",
   "metadata": {},
   "outputs": [],
   "source": [
    "def make_all_quadratic_outputs(A, filters):\n",
    "    \"\"\"\n",
    "    ## Bugs:\n",
    "    - Not tested properly.\n",
    "    - Does this need to consider all Levi-Civita contractions too?\n",
    "    \"\"\"\n",
    "    output = []\n",
    "    for C1, C2, C3 in it.product(filters, repeat=3):\n",
    "        k = C1.k + C2.k + C3.k + 2\n",
    "        p = (C1.parity + C2.parity + C3.parity) % 2\n",
    "        if k % 2 == 0:\n",
    "            continue\n",
    "        if p == 1:\n",
    "            continue\n",
    "        B3 = (A.convolve_with(C1) * A.convolve_with(C2)).convolve_with(C3)\n",
    "        assert B3.k == k\n",
    "        assert B3.parity == p\n",
    "        Bs_at_k = [B3, ]\n",
    "        while k > 1:\n",
    "            Bs_at_k_minus_2 = []\n",
    "            for i in range(k-1):\n",
    "                for j in range(i + 1, k):\n",
    "                    Bs_at_k_minus_2 += [B.contract(i, j) for B in Bs_at_k]\n",
    "            k = k - 2\n",
    "            Bs_at_k = Bs_at_k_minus_2\n",
    "        assert k == 1\n",
    "        output += Bs_at_k\n",
    "    return output"
   ]
  },
  {
   "cell_type": "code",
   "execution_count": null,
   "id": "475e12d1",
   "metadata": {},
   "outputs": [],
   "source": [
    "v_images_2 = make_all_quadratic_outputs(vector_image, flat_list_of_filters)\n",
    "print(len(v_images_2))"
   ]
  },
  {
   "cell_type": "code",
   "execution_count": null,
   "id": "371e66ba",
   "metadata": {},
   "outputs": [],
   "source": [
    "# DON'T EVER run this cell: the standard SVD can't handle this.\n",
    "assert False\n",
    "datablock = np.array([im.unpack().flatten() for im in v_images_2])\n",
    "print(datablock.shape)\n",
    "u, s, v = np.linalg.svd(datablock)\n",
    "print(\"there are\", np.sum(s > geom.TINY),\n",
    "      \"different images at N = M =\", N,\n",
    "      \"to quadratic order\")"
   ]
  },
  {
   "cell_type": "code",
   "execution_count": null,
   "id": "13da60d3",
   "metadata": {},
   "outputs": [],
   "source": []
  }
 ],
 "metadata": {
  "kernelspec": {
   "display_name": "Python 3 (ipykernel)",
   "language": "python",
   "name": "python3"
  },
  "language_info": {
   "codemirror_mode": {
    "name": "ipython",
    "version": 3
   },
   "file_extension": ".py",
   "mimetype": "text/x-python",
   "name": "python",
   "nbconvert_exporter": "python",
   "pygments_lexer": "ipython3",
   "version": "3.9.12"
  }
 },
 "nbformat": 4,
 "nbformat_minor": 5
}
